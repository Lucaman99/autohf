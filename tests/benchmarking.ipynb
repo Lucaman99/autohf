{
 "cells": [
  {
   "cell_type": "markdown",
   "id": "e6118ed1-a942-4128-9522-94d490be3ca9",
   "metadata": {},
   "source": [
    "## Benchmarking"
   ]
  },
  {
   "cell_type": "code",
   "execution_count": 1,
   "id": "b819cc91-6693-4cc6-a0ca-216c3d755461",
   "metadata": {},
   "outputs": [],
   "source": [
    "import time\n",
    "import autohf as hf\n",
    "import numpy as np\n",
    "import autograd.numpy as anp\n",
    "import autograd"
   ]
  },
  {
   "cell_type": "code",
   "execution_count": 2,
   "id": "f2cdb565-2bb6-4870-bfe7-3620877582ba",
   "metadata": {},
   "outputs": [
    {
     "data": {
      "text/plain": [
       "array([0.07961459, 0.07961459])"
      ]
     },
     "execution_count": 2,
     "metadata": {},
     "output_type": "execute_result"
    }
   ],
   "source": [
    "i = np.array([1, 1])\n",
    "j = np.array([1, 1])\n",
    "t = np.array([1, 1])\n",
    "\n",
    "Ra = np.array([1.0, 1.0])\n",
    "Rb = np.array([0.0, 0.0])\n",
    "alpha, beta = np.array([1.0, 1.0]), np.array([0.5, 0.5])\n",
    "\n",
    "np.vectorize(hf.expansion_coeff)(i, j, t, Ra, Rb, alpha, beta)"
   ]
  },
  {
   "cell_type": "code",
   "execution_count": 2,
   "id": "5a1b2bf8-761a-4fa2-8965-f745a40fb169",
   "metadata": {},
   "outputs": [],
   "source": [
    "L1, L2, L3, L4 = (1, 1, 1), (1, 1, 1), (1, 1, 1), (1, 1, 1)\n",
    "alpha, beta, gamma, delta = 1.0, 0.5, 0.2, 0.1\n",
    "Ra, Rb, Rc, Rd = np.array([1.0, 0.0, 0.0]), np.array([1.0, 1.0, 0.0]), np.array([0.0, 1.0, 0.0]), np.array([0.0, 0.0, 0.0])"
   ]
  },
  {
   "cell_type": "code",
   "execution_count": 5,
   "id": "26d99cda-5d1a-4d68-831d-fc4688ce8a4f",
   "metadata": {},
   "outputs": [
    {
     "name": "stdout",
     "output_type": "stream",
     "text": [
      "17.7 s ± 1.8 s per loop (mean ± std. dev. of 7 runs, 1 loop each)\n"
     ]
    }
   ],
   "source": [
    "%timeit autograd.grad(hf.electron_repulsion)(alpha, L1, Ra, beta, L2, Rb, gamma, L3, Rc, delta, L4, Rd)"
   ]
  },
  {
   "cell_type": "code",
   "execution_count": 4,
   "id": "9a749176-47ad-4921-a246-862e8f2ab8e3",
   "metadata": {},
   "outputs": [
    {
     "name": "stdout",
     "output_type": "stream",
     "text": [
      "14.5 s ± 2.1 s per loop (mean ± std. dev. of 7 runs, 1 loop each)\n"
     ]
    }
   ],
   "source": [
    "%timeit autograd.grad(hf.electron_repulsion)(alpha, L1, Ra, beta, L2, Rb, gamma, L3, Rc, delta, L4, Rd)"
   ]
  },
  {
   "cell_type": "code",
   "execution_count": 3,
   "id": "bc811cc1-1f92-4f03-b136-8379b5491218",
   "metadata": {},
   "outputs": [
    {
     "name": "stdout",
     "output_type": "stream",
     "text": [
      "20.7 s ± 6.15 s per loop (mean ± std. dev. of 7 runs, 1 loop each)\n"
     ]
    }
   ],
   "source": [
    "%timeit autograd.grad(hf.electron_repulsion)(alpha, L1, Ra, beta, L2, Rb, gamma, L3, Rc, delta, L4, Rd)"
   ]
  },
  {
   "cell_type": "code",
   "execution_count": 3,
   "id": "0342afec-0dd4-420d-8ac0-ec030e0863b8",
   "metadata": {},
   "outputs": [
    {
     "name": "stdout",
     "output_type": "stream",
     "text": [
      "19.9 s ± 4.67 s per loop (mean ± std. dev. of 7 runs, 1 loop each)\n"
     ]
    }
   ],
   "source": [
    "%timeit autograd.grad(hf.electron_repulsion)(alpha, L1, Ra, beta, L2, Rb, gamma, L3, Rc, delta, L4, Rd)"
   ]
  },
  {
   "cell_type": "code",
   "execution_count": null,
   "id": "3382433c-1000-406c-9556-4072d6fbcf3d",
   "metadata": {},
   "outputs": [],
   "source": [
    "def electron_repulsion(alpha, L1, Ra, beta, L2, Rb, gamma, L3, Rc, delta, L4, Rd):\n",
    "    \"\"\"Electron repulsion between Gaussians\"\"\"\n",
    "    l1, m1, n1 = L1\n",
    "    l2, m2, n2 = L2\n",
    "    l3, m3, n3 = L3\n",
    "    l4, m4, n4 = L4\n",
    "\n",
    "    p = alpha + beta\n",
    "    q = gamma + delta\n",
    "    quotient = (p * q)/(p + q)\n",
    "\n",
    "    P = gaussian_prod(alpha, Ra, beta, Rb) # A and B composite center\n",
    "    Q = gaussian_prod(gamma, Rc, delta, Rd) # C and D composite center\n",
    "\n",
    "    val = 0.0\n",
    "    v_exp = anp.vectorize(expansion_coeff)\n",
    "    for t in range(l1+l2+1):\n",
    "        for u in range(m1+m2+1):\n",
    "            for v in range(n1+n2+1):\n",
    "                for tau in range(l3+l4+1):\n",
    "                    for nu in range(m3+m4+1):\n",
    "                        for phi in range(n3+n4+1):\n",
    "                            val = val + v_exp(anp.array(L1), anp.array(L2), anp.array([t, u, v]), Ra, Rb, alpha, beta).prod() * \\\n",
    "                                   v_exp(anp.array(L1), anp.array(L4), anp.array([tau, nu, phi]), Rc, Rd, gamma, delta).prod() * \\\n",
    "                                   ((-1) ** tau + nu + phi) * \\\n",
    "                                   R(t + tau, u + nu, v + phi, 0, quotient, P - Q)\n",
    "\n",
    "    val = val * 2 * (anp.pi ** 2.5) / (p * q * anp.sqrt(p+q))\n",
    "    return val"
   ]
  },
  {
   "cell_type": "code",
   "execution_count": null,
   "id": "c9a97e6b-872f-43f3-9ef7-2decf65d5af8",
   "metadata": {},
   "outputs": [],
   "source": [
    "def expansion_coeff(i, j, t, Ra, Rb, alpha, beta):\n",
    "\n",
    "\n",
    "    Qx = Ra - Rb\n",
    "    p = alpha + beta\n",
    "    q = (alpha * beta) / p\n",
    "\n",
    "    if (t < 0) or (t > (i + j)):\n",
    "        v = 0.0\n",
    "    elif i == j == t == 0:\n",
    "        v = anp.exp(-1 * q * (Qx ** 2))\n",
    "    elif j == 0:\n",
    "        v = (1 / (2 * p)) * expansion_coeff(i - 1, j, t - 1, Ra, Rb, alpha, beta) - \\\n",
    "            (q * Qx / alpha) * expansion_coeff(i - 1, j, t, Ra, Rb, alpha, beta) + \\\n",
    "            (t + 1) * expansion_coeff(i - 1, j, t + 1, Ra, Rb, alpha, beta)\n",
    "    else:\n",
    "        v = (1 / (2 * p)) * expansion_coeff(i, j - 1, t - 1, Ra, Rb, alpha, beta) + \\\n",
    "            (q * Qx / beta) * expansion_coeff(i, j - 1, t, Ra, Rb, alpha, beta) + \\\n",
    "            (t + 1) * expansion_coeff(i, j - 1, t + 1, Ra, Rb, alpha, beta)\n",
    "    return v"
   ]
  }
 ],
 "metadata": {
  "kernelspec": {
   "display_name": "Python 3 (ipykernel)",
   "language": "python",
   "name": "python3"
  },
  "language_info": {
   "codemirror_mode": {
    "name": "ipython",
    "version": 3
   },
   "file_extension": ".py",
   "mimetype": "text/x-python",
   "name": "python",
   "nbconvert_exporter": "python",
   "pygments_lexer": "ipython3",
   "version": "3.9.1"
  }
 },
 "nbformat": 4,
 "nbformat_minor": 5
}
