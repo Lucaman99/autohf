{
 "cells": [
  {
   "cell_type": "markdown",
   "id": "e6118ed1-a942-4128-9522-94d490be3ca9",
   "metadata": {},
   "source": [
    "## Benchmarking"
   ]
  },
  {
   "cell_type": "code",
   "execution_count": 1,
   "id": "b819cc91-6693-4cc6-a0ca-216c3d755461",
   "metadata": {},
   "outputs": [],
   "source": [
    "import time\n",
    "import autohf as hf"
   ]
  },
  {
   "cell_type": "markdown",
   "id": "8e700d13-d4b0-41fb-8737-1bd3be958875",
   "metadata": {},
   "source": [
    "#### Atomic Norm"
   ]
  },
  {
   "cell_type": "code",
   "execution_count": 2,
   "id": "25791bab-7634-464c-a43b-5250cb304ab2",
   "metadata": {},
   "outputs": [
    {
     "name": "stdout",
     "output_type": "stream",
     "text": [
      "Time = 0.00022602081298828125s\n"
     ]
    }
   ],
   "source": [
    "start = time.time()\n",
    "hf.atomic_norm((1, 1, 1), [1.0, 2.0, 3.0], [3.0, 2.0, 1.0])\n",
    "print(\"Time = {}s\".format(time.time() - start))"
   ]
  },
  {
   "cell_type": "code",
   "execution_count": 5,
   "id": "b493f479-d756-416f-aacd-372a7bbbc2cd",
   "metadata": {},
   "outputs": [
    {
     "name": "stdout",
     "output_type": "stream",
     "text": [
      "[9. 6. 3. 6. 4. 2. 3. 2. 1.]\n",
      "[2. 3. 4. 3. 4. 5. 4. 5. 6.]\n",
      "Time = 0.0043680667877197266s\n"
     ]
    }
   ],
   "source": [
    "start = time.time()\n",
    "hf.new_atomic_norm((1, 1, 1), [1.0, 2.0, 3.0], [3.0, 2.0, 1.0])\n",
    "print(\"Time = {}s\".format(time.time() - start))"
   ]
  },
  {
   "cell_type": "code",
   "execution_count": null,
   "id": "e3513a78-a05f-49e5-bb90-9d69a0c93ba9",
   "metadata": {},
   "outputs": [],
   "source": []
  }
 ],
 "metadata": {
  "kernelspec": {
   "display_name": "Python 3 (ipykernel)",
   "language": "python",
   "name": "python3"
  },
  "language_info": {
   "codemirror_mode": {
    "name": "ipython",
    "version": 3
   },
   "file_extension": ".py",
   "mimetype": "text/x-python",
   "name": "python",
   "nbconvert_exporter": "python",
   "pygments_lexer": "ipython3",
   "version": "3.9.1"
  }
 },
 "nbformat": 4,
 "nbformat_minor": 5
}
