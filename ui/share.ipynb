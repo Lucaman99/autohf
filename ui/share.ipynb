{
 "cells": [
  {
   "cell_type": "code",
   "execution_count": 1,
   "metadata": {},
   "outputs": [],
   "source": [
    "import autograd\n",
    "import numpy as np\n",
    "from autograd import numpy as anp\n",
    "from molecule import Molecule, generate_params\n",
    "from postproc import energy_hf"
   ]
  },
  {
   "cell_type": "code",
   "execution_count": 2,
   "metadata": {},
   "outputs": [],
   "source": [
    "# H2"
   ]
  },
  {
   "cell_type": "code",
   "execution_count": 3,
   "metadata": {},
   "outputs": [
    {
     "name": "stdout",
     "output_type": "stream",
     "text": [
      "HF energy =  -1.1175058847143655\n"
     ]
    },
    {
     "data": {
      "text/plain": [
       "[array([0.        , 0.        , 0.07985208]),\n",
       " array([ 0.        ,  0.        , -0.07985208])]"
      ]
     },
     "execution_count": 3,
     "metadata": {},
     "output_type": "execute_result"
    }
   ],
   "source": [
    "from molecule import Molecule, generate_params\n",
    "from postproc import energy_hf\n",
    "\n",
    "symbols  = ['H', 'H']\n",
    "geometry = [[0.0, 0.0, -0.672940021],\n",
    "            [0.0, 0.0,  0.672940021]]\n",
    "\n",
    "mol = Molecule(symbols, geometry, a = True)\n",
    "\n",
    "params_a = [[np.array(i)] for i in mol.a_init]\n",
    "\n",
    "R, params = generate_params(mol, params_a=params_a)\n",
    "\n",
    "e_hf = energy_hf(mol)(R, *params)\n",
    "\n",
    "print('HF energy = ', e_hf)\n",
    "\n",
    "#  gradients\n",
    "\n",
    "energy_fn = energy_hf(mol)\n",
    "\n",
    "autograd.grad(energy_fn, argnum=0)(R, *params)"
   ]
  },
  {
   "cell_type": "code",
   "execution_count": null,
   "metadata": {},
   "outputs": [],
   "source": []
  },
  {
   "cell_type": "code",
   "execution_count": 4,
   "metadata": {},
   "outputs": [],
   "source": [
    "# LiH"
   ]
  },
  {
   "cell_type": "code",
   "execution_count": 5,
   "metadata": {},
   "outputs": [
    {
     "name": "stdout",
     "output_type": "stream",
     "text": [
      "HF energy =  -7.8633821400365065\n"
     ]
    },
    {
     "name": "stderr",
     "output_type": "stream",
     "text": [
      "/home/soran/.local/lib/python3.8/site-packages/autograd/numpy/linalg.py:112: RuntimeWarning: divide by zero encountered in true_divide\n",
      "  F = off_diag / (T(w_repeated) - w_repeated + anp.eye(N))\n",
      "/home/soran/.local/lib/python3.8/site-packages/autograd/numpy/linalg.py:113: RuntimeWarning: invalid value encountered in multiply\n",
      "  return _dot(v * wg[..., anp.newaxis, :] + _dot(v, F * _dot(T(v), vg)), T(v))\n"
     ]
    },
    {
     "data": {
      "text/plain": [
       "[array([nan, nan, nan]), array([nan, nan, nan])]"
      ]
     },
     "execution_count": 5,
     "metadata": {},
     "output_type": "execute_result"
    }
   ],
   "source": [
    "symbols  = ['H', 'Li']\n",
    "geometry = [[0.0, 0.0, -1.427498608],\n",
    "            [0.0, 0.0,  1.427498608]]\n",
    "\n",
    "mol = Molecule(symbols, geometry, a = True)\n",
    "\n",
    "params_a = [[np.array(i)] for i in mol.a_init]\n",
    "\n",
    "R, params = generate_params(mol, params_a=params_a)\n",
    "\n",
    "e_hf = energy_hf(mol)(R, *params)\n",
    "\n",
    "print('HF energy = ', e_hf)\n",
    "\n",
    "#  gradients\n",
    "\n",
    "energy_fn = energy_hf(mol)\n",
    "\n",
    "autograd.grad(energy_fn, argnum=0)(R, *params)"
   ]
  },
  {
   "cell_type": "code",
   "execution_count": null,
   "metadata": {},
   "outputs": [],
   "source": []
  }
 ],
 "metadata": {
  "kernelspec": {
   "display_name": "Python 3",
   "language": "python",
   "name": "python3"
  },
  "language_info": {
   "codemirror_mode": {
    "name": "ipython",
    "version": 3
   },
   "file_extension": ".py",
   "mimetype": "text/x-python",
   "name": "python",
   "nbconvert_exporter": "python",
   "pygments_lexer": "ipython3",
   "version": "3.8.5"
  }
 },
 "nbformat": 4,
 "nbformat_minor": 4
}
