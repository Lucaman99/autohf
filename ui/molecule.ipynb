{
 "cells": [
  {
   "cell_type": "code",
   "execution_count": 2,
   "metadata": {},
   "outputs": [],
   "source": [
    "import numpy as np\n",
    "from data import Molecule, energy\n",
    "from hartreefock import hartree_fock"
   ]
  },
  {
   "cell_type": "code",
   "execution_count": 3,
   "metadata": {},
   "outputs": [],
   "source": [
    "R = [[0.0, 0.0, -0.694347576012433],\n",
    "     [0.0, 0.0, 0.694347576012433]]\n",
    "\n",
    "symbols = ['H', 'H']\n",
    "\n",
    "params = ['r'] # differentiable parameters, 'r' indicates Gaussian centers"
   ]
  },
  {
   "cell_type": "code",
   "execution_count": 4,
   "metadata": {},
   "outputs": [],
   "source": [
    "mol = Molecule(symbols, R, params = params)"
   ]
  },
  {
   "cell_type": "code",
   "execution_count": 6,
   "metadata": {},
   "outputs": [],
   "source": [
    "R1, R2 = [np.array([0.0, 0.0, -0.694347576012433]),\n",
    "          np.array([0.0, 0.0, 0.694347576012433])]\n",
    "\n",
    "hf_data = hartree_fock(mol.n_electrons, mol.basis_set)([R1], [R2]) # hartree_fock can be modified to take the Molecule object as input"
   ]
  },
  {
   "cell_type": "code",
   "execution_count": 7,
   "metadata": {},
   "outputs": [
    {
     "data": {
      "text/plain": [
       "(array([-0.58068475,  0.6764763 ]),\n",
       " array([[-0.54828754, -1.2184862 ],\n",
       "        [-0.54828754,  1.2184862 ]]),\n",
       " array([[-0.36899994, -0.59681444],\n",
       "        [-0.59681444, -0.36899994]]),\n",
       " array([[-1.12430532, -0.96541548],\n",
       "        [-0.96541548, -1.12430532]]),\n",
       " array([[[[0.77460594, 0.44752243],\n",
       "          [0.44752243, 0.57192752]],\n",
       " \n",
       "         [[0.44752243, 0.30100731],\n",
       "          [0.30100731, 0.44752243]]],\n",
       " \n",
       " \n",
       "        [[[0.44752243, 0.30100731],\n",
       "          [0.30100731, 0.44752243]],\n",
       " \n",
       "         [[0.57192752, 0.44752243],\n",
       "          [0.44752243, 0.77460594]]]]))"
      ]
     },
     "execution_count": 7,
     "metadata": {},
     "output_type": "execute_result"
    }
   ],
   "source": [
    "hf_data"
   ]
  },
  {
   "cell_type": "code",
   "execution_count": 8,
   "metadata": {},
   "outputs": [],
   "source": [
    "e = energy(mol.n_electrons, mol.nuclear_charges, [R1, R2], hf_data) # the energy function needs some work"
   ]
  },
  {
   "cell_type": "code",
   "execution_count": 9,
   "metadata": {},
   "outputs": [
    {
     "name": "stdout",
     "output_type": "stream",
     "text": [
      "-1.117004820624118\n"
     ]
    }
   ],
   "source": [
    "print(e)"
   ]
  }
 ],
 "metadata": {
  "kernelspec": {
   "display_name": "Python 3",
   "language": "python",
   "name": "python3"
  },
  "language_info": {
   "codemirror_mode": {
    "name": "ipython",
    "version": 3
   },
   "file_extension": ".py",
   "mimetype": "text/x-python",
   "name": "python",
   "nbconvert_exporter": "python",
   "pygments_lexer": "ipython3",
   "version": "3.8.5"
  }
 },
 "nbformat": 4,
 "nbformat_minor": 4
}
