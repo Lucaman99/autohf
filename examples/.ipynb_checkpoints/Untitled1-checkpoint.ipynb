{
 "cells": [
  {
   "cell_type": "code",
   "execution_count": null,
   "id": "fa19b153-8a18-4d93-be4e-116d4a154a3c",
   "metadata": {},
   "outputs": [],
   "source": [
    "%reload_ext autoreload\n",
    "%autoreload 2\n",
    "import autohf as hf\n",
    "import numpy as np\n",
    "import autograd.numpy as anp\n",
    "from matplotlib import pyplot as plt\n",
    "import autograd\n",
    "import time"
   ]
  },
  {
   "cell_type": "code",
   "execution_count": 28,
   "id": "5c87521e-5878-4cf7-9341-832fe5272379",
   "metadata": {},
   "outputs": [],
   "source": [
    "M1, M2, M3 = hf.generate_basis_set('sto-3g', ['H', 'H', 'H']) # Generates default information for hydrogen"
   ]
  },
  {
   "cell_type": "code",
   "execution_count": 29,
   "id": "35e414b1-e69d-4853-8207-245acd489670",
   "metadata": {},
   "outputs": [],
   "source": [
    "AO = []\n",
    "\n",
    "# Generates atomic orbitals using the default information\n",
    "for func in M1:\n",
    "    L, exp, coeff = func\n",
    "    AO.append(hf.AtomicBasisFunction(L, C=coeff, A=exp))\n",
    "\n",
    "# Generates atomic orbitals using the default information\n",
    "for func in M2:\n",
    "    L, exp, coeff = func\n",
    "    AO.append(hf.AtomicBasisFunction(L, C=coeff, A=exp))\n",
    "    \n",
    "# Generates atomic orbitals using the default information\n",
    "for func in M3:\n",
    "    L, exp, coeff = func\n",
    "    AO.append(hf.AtomicBasisFunction(L, C=coeff, A=exp))"
   ]
  },
  {
   "cell_type": "code",
   "execution_count": 34,
   "id": "c3947174-5b21-4a4c-becc-f411f4c74efe",
   "metadata": {},
   "outputs": [],
   "source": [
    "num_elecs = 2\n",
    "elec_solver = hf.two_electron_integral(num_elecs, AO) # Creates the solver\n",
    "\n",
    "# Prepares the initial geometry of the orbitals\n",
    "R1 = [[anp.array([0.0, 0.0, 0.0])] for m in M1] # Location of nucleus\n",
    "R2 = [[anp.array([-1.0, -1.0, -1.0])] for m in M2] # Location of nucleus\n",
    "R3 = [[anp.array([1.0, 1.0, 1.0])] for m in M2] # Location of nucleus\n",
    "\n",
    "R = np.array(R1 + R2 + R3)"
   ]
  },
  {
   "cell_type": "code",
   "execution_count": 35,
   "id": "18bc7eb3-88fd-44f9-971a-e96e11379e3c",
   "metadata": {},
   "outputs": [
    {
     "name": "stdout",
     "output_type": "stream",
     "text": [
      "One Electron Integrals\n",
      "[[[[ 5.90039383e-01  9.02056208e-17  9.96061182e-02]\n",
      "   [ 1.90819582e-16  1.45966860e-01  2.08166817e-17]\n",
      "   [ 9.96061182e-02 -5.55111512e-17  1.32568251e-01]]\n",
      "\n",
      "  [[ 2.01227923e-16  1.45966860e-01 -6.93889390e-18]\n",
      "   [ 5.03337683e-01  3.60822483e-16 -3.02161956e-02]\n",
      "   [-1.04083409e-16 -1.38404165e-01 -1.38777878e-16]]\n",
      "\n",
      "  [[ 9.96061182e-02 -3.46944695e-17  1.32568251e-01]\n",
      "   [-9.71445147e-17 -1.38404165e-01 -2.77555756e-17]\n",
      "   [ 5.95047013e-01 -2.49800181e-16  8.61316208e-02]]]\n",
      "\n",
      "\n",
      " [[[ 1.45716772e-16  5.03337683e-01  7.63278329e-17]\n",
      "   [ 1.45966860e-01  3.60822483e-16 -1.38404165e-01]\n",
      "   [ 0.00000000e+00 -3.02161956e-02 -5.55111512e-17]]\n",
      "\n",
      "  [[ 1.45966860e-01  3.74700271e-16 -1.38404165e-01]\n",
      "   [ 3.88578059e-16  5.48806360e-01 -2.77555756e-16]\n",
      "   [-1.38404165e-01 -1.11022302e-16  1.57136167e-01]]\n",
      "\n",
      "  [[-4.85722573e-17 -3.02161956e-02 -5.55111512e-17]\n",
      "   [-1.38404165e-01 -1.11022302e-16  1.57136167e-01]\n",
      "   [-1.38777878e-16  5.34741460e-01  3.33066907e-16]]]\n",
      "\n",
      "\n",
      " [[[ 9.96061182e-02 -3.46944695e-17  5.95047013e-01]\n",
      "   [ 6.93889390e-18 -1.38404165e-01 -1.66533454e-16]\n",
      "   [ 1.32568251e-01 -1.11022302e-16  8.61316208e-02]]\n",
      "\n",
      "  [[-6.24500451e-17 -1.38404165e-01 -1.11022302e-16]\n",
      "   [-3.02161956e-02 -1.66533454e-16  5.34741460e-01]\n",
      "   [-1.38777878e-16  1.57136167e-01  1.11022302e-16]]\n",
      "\n",
      "  [[ 1.32568251e-01 -1.11022302e-16  8.61316208e-02]\n",
      "   [-8.32667268e-17  1.57136167e-01  4.99600361e-16]\n",
      "   [ 8.61316208e-02  5.55111512e-16  6.38487193e-01]]]]\n",
      "Execution Time: 0.20706772804260254 seconds\n"
     ]
    }
   ],
   "source": [
    "# Runs the Hartree-Fock solver for one-electron integrals\n",
    "start = time.time()\n",
    "res = elec_solver(*R)\n",
    "print(\"One Electron Integrals\")\n",
    "print(res)\n",
    "\n",
    "print(\"Execution Time: {} seconds\".format(time.time() - start))"
   ]
  },
  {
   "cell_type": "code",
   "execution_count": null,
   "id": "4d4253db-66bf-41fa-aae2-37958810da16",
   "metadata": {},
   "outputs": [],
   "source": [
    "start = time.time()\n",
    "\n",
    "grad_solver = autograd.hessian(elec_solver) # Takes the derivative wrt geometry\n",
    "res = grad_solver(*R)\n",
    "print(\"Derivatives of One Electron Integrals\")\n",
    "print(res)\n",
    "\n",
    "print(\"Execution Time: {} seconds\".format(time.time() - start))"
   ]
  },
  {
   "cell_type": "code",
   "execution_count": 19,
   "id": "aaa37a89-7734-44e9-9e9b-e43f9656d229",
   "metadata": {},
   "outputs": [
    {
     "name": "stdout",
     "output_type": "stream",
     "text": [
      "Derivatives of One Electron Integrals\n",
      "[[[-5.62416596e-02 -5.62416596e-02 -5.62416596e-02]]\n",
      "\n",
      " [[ 3.41434971e-17  3.41434971e-17  3.41434971e-17]]\n",
      "\n",
      " [[-2.94902991e-17 -2.94902991e-17 -2.94902991e-17]]\n",
      "\n",
      " [[ 1.87453661e-02  1.87453661e-02  1.87453661e-02]]\n",
      "\n",
      " [[ 1.47451495e-17  1.47451495e-17  1.47451495e-17]]\n",
      "\n",
      " [[ 1.87453661e-02  1.87453661e-02  1.87453661e-02]]\n",
      "\n",
      " [[-4.79902323e-02 -4.79902323e-02 -4.79902323e-02]]\n",
      "\n",
      " [[ 9.08383995e-17  9.08383995e-17  9.08383995e-17]]\n",
      "\n",
      " [[-2.16840434e-17 -2.16840434e-17 -2.16840434e-17]]\n",
      "\n",
      " [[-4.79902323e-02 -4.79902323e-02 -4.79902323e-02]]\n",
      "\n",
      " [[ 1.87453661e-02  1.87453661e-02  1.87453661e-02]]\n",
      "\n",
      " [[-6.93889390e-17 -6.93889390e-17 -4.16333634e-17]]\n",
      "\n",
      " [[ 1.87453661e-02  1.87453661e-02  1.87453661e-02]]\n",
      "\n",
      " [[ 1.81360410e-16  1.81360410e-16  1.53604834e-16]]\n",
      "\n",
      " [[ 7.72770010e-17  7.72770010e-17  7.72770010e-17]]\n",
      "\n",
      " [[-5.10165304e-02 -5.10165304e-02 -5.10165304e-02]]]\n",
      "Execution Time: 6.758265256881714 seconds\n"
     ]
    }
   ],
   "source": [
    "elec_solver = hf.electron_integrals(num_elecs, AO)\n",
    "start = time.time()\n",
    "\n",
    "grad_solver = autograd.jacobian(elec_solver) # Takes the derivative wrt geometry\n",
    "res = grad_solver(*R)\n",
    "print(\"Derivatives of One Electron Integrals\")\n",
    "print(res)\n",
    "\n",
    "print(\"Execution Time: {} seconds\".format(time.time() - start))"
   ]
  },
  {
   "cell_type": "code",
   "execution_count": null,
   "id": "4680cebd-4349-4943-b267-4faa2cc69a3b",
   "metadata": {},
   "outputs": [],
   "source": []
  }
 ],
 "metadata": {
  "kernelspec": {
   "display_name": "Python 3",
   "language": "python",
   "name": "python3"
  },
  "language_info": {
   "codemirror_mode": {
    "name": "ipython",
    "version": 3
   },
   "file_extension": ".py",
   "mimetype": "text/x-python",
   "name": "python",
   "nbconvert_exporter": "python",
   "pygments_lexer": "ipython3",
   "version": "3.9.5"
  }
 },
 "nbformat": 4,
 "nbformat_minor": 5
}
