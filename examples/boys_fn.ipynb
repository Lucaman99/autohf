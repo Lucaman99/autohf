{
 "cells": [
  {
   "cell_type": "markdown",
   "id": "04b0ab46-bc63-4193-9056-48612b3660ef",
   "metadata": {},
   "source": [
    "# Analytic Calculation of the Boys Function"
   ]
  },
  {
   "cell_type": "markdown",
   "id": "23c08be5-1775-4211-8744-1865ec60697e",
   "metadata": {},
   "source": [
    "Consider the Boys function, which can be defined in terms of the lower incomplete gamma function as:\n",
    "\n",
    "$$F_n(x) = \\frac{1}{2 x^{m + \\frac{1}{2}}} \\gamma \\left( n + \\frac{1}{2}, x \\right) = \\frac{1}{2 x^{m + \\frac{1}{2}}} \\displaystyle\\int_{0}^{x} t^{m - \\frac{1}{2}} \\exp(-t) \\ dt$$"
   ]
  },
  {
   "cell_type": "markdown",
   "id": "344d016f-9b36-4b1c-94ca-b12695049286",
   "metadata": {},
   "source": [
    "We note, through simple differentiation, that:\n",
    "\n",
    "$$\\frac{d F_n(x)}{dx} = \\frac{d}{dx} \\frac{1}{2x^{m + \\frac{1}{2}}} \\displaystyle\\int_{0}^{x} t^{m - \\frac{1}{2}} \\exp(-t) \\ dt = \\frac{1}{2x} \\exp(-x) - \\left( n + \\frac{1}{2} \\right) \\frac{1}{2 x^{m + \\frac{3}{2}}} \\gamma \\left( n + \\frac{1}{2}, x\\right) = \\frac{1}{x} \\left[ \\frac{\\exp(-x)}{2} - \\left( n + \\frac{1}{2} \\right) F_n(x) \\right]$$"
   ]
  },
  {
   "cell_type": "markdown",
   "id": "13796916-4d0c-4d37-b1f7-9b1949263163",
   "metadata": {},
   "source": [
    "Thus, the derivative of $F_n(x)$ with respect to $x$ can be written in terms of $F_n(x)$ itself and the exponential function. First note that:\n",
    "\n",
    "$$\\frac{d^k}{dx^k} \\left[ \\frac{\\exp(-x)}{2} - \\left( n + \\frac{1}{2} \\right) F_n(x) \\right] = \\frac{(-1)^{k} \\exp(-x)}{2} - \\left(n + \\frac{1}{2} \\right) \\frac{d^k F_n(x)}{dx^k} \\ \\ \\ \\ \\text{and} \\ \\ \\ \\ \\frac{d^k}{dx^k} \\frac{1}{x} = \\frac{(-1)^{k}}{x^{k + 1}}$$\n",
    "\n",
    "Therefore, it follows from Leibniz's rule that:\n",
    "\n",
    "$$\\frac{d^{k} F_n(x)}{dx^{k}} = \\displaystyle\\sum_{j = 0}^{k - 1} {k - 1 \\choose j} \\left[ \\frac{(-1)^{j} \\exp(-x)}{2} - \\left(n + \\frac{1}{2} \\right) \\frac{d^j F_n(x)}{dx^j} \\right] \\frac{(-1)^{k - j}}{x^{k - j}}$$"
   ]
  },
  {
   "cell_type": "markdown",
   "id": "81fdda7b-c394-4fbc-8390-656d1192da13",
   "metadata": {},
   "source": [
    "Finally, we are interested in the limit of $x \\to 0$ for the $k$-th derivative of the Boys function."
   ]
  },
  {
   "cell_type": "code",
   "execution_count": null,
   "id": "8e29c0c7-22db-4b98-bd15-d8e0750b3034",
   "metadata": {},
   "outputs": [],
   "source": []
  }
 ],
 "metadata": {
  "kernelspec": {
   "display_name": "Python 3 (ipykernel)",
   "language": "python",
   "name": "python3"
  },
  "language_info": {
   "codemirror_mode": {
    "name": "ipython",
    "version": 3
   },
   "file_extension": ".py",
   "mimetype": "text/x-python",
   "name": "python",
   "nbconvert_exporter": "python",
   "pygments_lexer": "ipython3",
   "version": "3.9.1"
  }
 },
 "nbformat": 4,
 "nbformat_minor": 5
}
