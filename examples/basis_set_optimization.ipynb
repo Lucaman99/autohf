{
 "cells": [
  {
   "cell_type": "code",
   "execution_count": 3,
   "id": "e1fb61db-c954-460b-9c68-37e0720ede70",
   "metadata": {},
   "outputs": [],
   "source": [
    "%reload_ext autoreload\n",
    "%autoreload 2\n",
    "import autohf as hf\n",
    "import numpy as np\n",
    "from matplotlib import pyplot as plt\n",
    "import time\n",
    "import autograd\n",
    "import chemistry as chem\n",
    "import autograd.numpy as anp\n",
    "import openfermion\n",
    "from pennylane import qchem\n",
    "from tqdm import tqdm\n",
    "import pennylane as qml\n",
    "from autograd.differential_operators import make_jvp_reversemode as mjr"
   ]
  },
  {
   "cell_type": "markdown",
   "id": "fd58844b-0c0f-4a41-9858-82d8e84d7e94",
   "metadata": {},
   "source": [
    "# Optimizing a Basis Set Using AutoHF"
   ]
  },
  {
   "cell_type": "markdown",
   "id": "63ea28c8-72de-4ab2-84b6-6b8097a51561",
   "metadata": {},
   "source": [
    "One of the interesting applications is building better basis sets. More specifically, when we choose a basis set for use in a VQE simulation, we can leave some of the implicit parameters that define the basis set \"free\", so that we may optimize them along with the circuit parameters.\n",
    "\n",
    "In this demo, we will leave the exponents in the Gaussians used to define out primitive basis set as free parameters in a VQE simulation of the $H_2$ molecule. We begin by defining the molecule:"
   ]
  },
  {
   "cell_type": "code",
   "execution_count": 4,
   "id": "732d7d11-4b7e-4d7f-a74e-76987da670b9",
   "metadata": {},
   "outputs": [],
   "source": [
    "molecule = chem.H2()\n",
    "R = molecule.optimal_coordinates\n",
    "symbols = molecule.structure"
   ]
  },
  {
   "cell_type": "markdown",
   "id": "7be3d357-d042-4539-88b0-a99252e0a659",
   "metadata": {},
   "source": [
    "We then define the corresponding basis set:"
   ]
  },
  {
   "cell_type": "code",
   "execution_count": 5,
   "id": "6b6c6e88-1047-423e-9c6f-e2696f58f754",
   "metadata": {},
   "outputs": [],
   "source": [
    "M1, M2 = hf.basis_set_params('sto-3g', symbols) # Generates default information for hydrogen\n",
    "num_elecs = 2\n",
    "charges = [1, 1]\n",
    "R1, R2 = R[0:3], R[3:6]\n",
    "\n",
    "basis_set = []\n",
    "initial_exp = []\n",
    "\n",
    "# Generates atomic orbitals using the default information\n",
    "for func in M1:\n",
    "    L, exp, coeff = func\n",
    "    initial_exp.extend(exp)\n",
    "    basis_set.append(hf.AtomicBasisFunction(L, C=anp.array(coeff), R=R1))\n",
    "    \n",
    "for func in M2:\n",
    "    L, exp, coeff = func\n",
    "    initial_exp.extend(exp)\n",
    "    basis_set.append(hf.AtomicBasisFunction(L, C=anp.array(coeff), R=R2))"
   ]
  },
  {
   "cell_type": "markdown",
   "id": "f2085287-4cb3-4e88-990f-689e923d93a7",
   "metadata": {},
   "source": [
    "We can easily get the function needed to compute the one and two electron integrals:"
   ]
  },
  {
   "cell_type": "code",
   "execution_count": 6,
   "id": "f8fb818d-8f6f-4003-b273-24ba61da4f8d",
   "metadata": {},
   "outputs": [],
   "source": [
    "elec_func_flat = hf.electron_integrals_flat(num_elecs, charges, basis_set) # Function to get electronic integrals"
   ]
  },
  {
   "cell_type": "markdown",
   "id": "b790be41-f77f-48f2-a48f-4451f3e2e610",
   "metadata": {},
   "source": [
    "Next, we define methods which take a set of basis set parameters (in this case, exponents), and output the Hamiltonian and the gradient of the Hamiltonian:"
   ]
  },
  {
   "cell_type": "code",
   "execution_count": 12,
   "id": "8bd2ba87-5f5a-43b2-9c69-6d028a2350ca",
   "metadata": {},
   "outputs": [],
   "source": [
    "# Defines some parameters\n",
    "bohr_angs = 0.529177210903\n",
    "wires = [0, 1, 2, 3]\n",
    "new_coordinates = bohr_angs * np.array([R[0:3], R[3:6]])\n",
    "geometry = list(zip(['H', 'H'], new_coordinates))\n",
    "\n",
    "# Defines the nuclear energy\n",
    "nuc_energy = hf.nuclear_energy(charges)([R1, R2])\n",
    "\n",
    "# Defines the Hamiltonian and Hamiltonian gradient\n",
    "\n",
    "def H(alpha):\n",
    "    # Generates the molecular Hamiltonian\n",
    "    integrals = elec_func_flat([R1, R2], [alpha[0:3]], [alpha[3:6]])\n",
    "    \n",
    "    one, two = integrals[0:4].reshape((2, 2)), integrals[4:].reshape((2, 2, 2, 2))\n",
    "    return hf.build_h_from_integrals(geometry, one, two, nuc_energy, wires)"
   ]
  },
  {
   "cell_type": "code",
   "execution_count": 12,
   "id": "60e1caa3-b85c-4ec5-bebd-a279f6d7b1f0",
   "metadata": {},
   "outputs": [],
   "source": [
    "def dH(alpha, vec):\n",
    "    # Generates derivative of molecular Hamiltonian\n",
    "    derivative_func = lambda alpha : elec_func_flat([R1, R2], [alpha[0:3]], [alpha[3:6]])\n",
    "    integrals_d = mjr(derivative_func)(alpha)(vec)\n",
    "    \n",
    "    one, two = integrals_d[0:4].reshape((2, 2)), integrals_d[4:].reshape((2, 2, 2, 2))\n",
    "    return hf.build_h_from_integrals(geometry, one, two, 0.0, wires)\n",
    "\n",
    "def grad_H(alpha):\n",
    "    # Generates the gradient of the molecular Hamiltonian\n",
    "    H1 = []\n",
    "    for j in range(6):\n",
    "        vec = np.array([1.0 if k == j else 0.0 for k in range(6)])\n",
    "        H1.append(dH(alpha, vec))\n",
    "    return H1"
   ]
  },
  {
   "cell_type": "code",
   "execution_count": 14,
   "id": "9de3415d-2866-41b2-8efe-9d49f2e4ac7b",
   "metadata": {},
   "outputs": [
    {
     "name": "stderr",
     "output_type": "stream",
     "text": [
      "Energy = -1.1382877337765274, Geometry = 3.4223058719907242: 100%|█| 20\n"
     ]
    }
   ],
   "source": [
    "num_params = 1 # Number of variational parameters\n",
    "qubits = 4 # Number of qubits\n",
    "\n",
    "dev = qml.device('default.qubit', wires=qubits) # Defines the device used\n",
    "\n",
    "# Creates the circuit used to construct the VQE function\n",
    "def circuit(params, **kwargs):\n",
    "    qml.BasisState(np.array([1, 1, 0, 0]), wires=dev.wires)\n",
    "    qml.DoubleExcitation(params[0], wires=[0, 1, 2, 3])\n",
    "    \n",
    "optimizers = (qml.GradientDescentOptimizer(stepsize=0.1), qml.GradientDescentOptimizer(stepsize=0.1))\n",
    "initial_params = (np.array([0.2234384]), np.array(initial_exp))\n",
    "steps = 20\n",
    "\n",
    "# Performs VQE\n",
    "energy, params, opt_exp = chem.analytic_geometry(H, grad_H, circuit, dev, optimizers, steps, initial_params, bar=True)"
   ]
  },
  {
   "cell_type": "code",
   "execution_count": 15,
   "id": "cbcea3e2-930d-48de-9855-63e114405367",
   "metadata": {},
   "outputs": [
    {
     "name": "stderr",
     "output_type": "stream",
     "text": [
      "/Users/jackceroni/miniconda3/lib/python3.9/site-packages/pyscf/lib/misc.py:46: H5pyDeprecationWarning: Using default_file_mode other than 'r' is deprecated. Pass the mode to h5py.File() instead.\n",
      "Energy = -1.1373060512183404: 100%|██| 200/200 [00:08<00:00, 23.08it/s]\n"
     ]
    },
    {
     "data": {
      "text/plain": [
       "(-1.1373060512183404, tensor([0.22348336], requires_grad=True))"
      ]
     },
     "execution_count": 15,
     "metadata": {},
     "output_type": "execute_result"
    }
   ],
   "source": [
    "def circuit(params, wires):\n",
    "    qml.BasisState(np.array([1, 1, 0, 0]), wires=[0, 1, 2, 3])\n",
    "    qml.DoubleExcitation(params[0], wires=[0, 1, 2, 3])\n",
    "\n",
    "chem.vqe(molecule.hamiltonian()(R), circuit, dev, qml.GradientDescentOptimizer(stepsize=0.1), 200, np.array([0.0]), bar=True)"
   ]
  },
  {
   "cell_type": "code",
   "execution_count": null,
   "id": "455a11b6-b4b2-47d1-83ba-26ef0ddcf75b",
   "metadata": {},
   "outputs": [],
   "source": []
  }
 ],
 "metadata": {
  "kernelspec": {
   "display_name": "Python 3 (ipykernel)",
   "language": "python",
   "name": "python3"
  },
  "language_info": {
   "codemirror_mode": {
    "name": "ipython",
    "version": 3
   },
   "file_extension": ".py",
   "mimetype": "text/x-python",
   "name": "python",
   "nbconvert_exporter": "python",
   "pygments_lexer": "ipython3",
   "version": "3.9.1"
  }
 },
 "nbformat": 4,
 "nbformat_minor": 5
}
