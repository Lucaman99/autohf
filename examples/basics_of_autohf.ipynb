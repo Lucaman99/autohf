{
 "cells": [
  {
   "cell_type": "code",
   "execution_count": 34,
   "id": "6cdffe9b-1140-4ae7-bca7-416511e0fe47",
   "metadata": {},
   "outputs": [],
   "source": [
    "%reload_ext autoreload\n",
    "%autoreload 2\n",
    "import autohf as hf\n",
    "import numpy as np\n",
    "from matplotlib import pyplot as plt\n",
    "import time\n",
    "import autograd"
   ]
  },
  {
   "cell_type": "markdown",
   "id": "37eb0a29-edb0-4e5e-9d15-637b731ffb44",
   "metadata": {},
   "source": [
    "# The Basics of AutoHF"
   ]
  },
  {
   "cell_type": "markdown",
   "id": "a1763a98-73ee-45cc-9bc7-e3b210f0a618",
   "metadata": {},
   "source": [
    "The purpose of this Notebook is to outline some of the basic functionality included in the AutoHF package, as well as explain some of the design choices that were made during the creation of the library."
   ]
  },
  {
   "cell_type": "markdown",
   "id": "ec7f184a-b29d-4417-8c6d-17e03b200f49",
   "metadata": {},
   "source": [
    "## A Basic Example"
   ]
  },
  {
   "cell_type": "markdown",
   "id": "ff53dce1-c4a5-44a9-91e2-1d2aeedf432a",
   "metadata": {},
   "source": [
    "The building blocks of the AutoHF package are atomic oribtals, which are used to produce molecular orbitals during Hartree-Fock. This atomic orbitals often dependent implicitly on sets of parameters. The goal of AutoHF is to make these implicity parameters explicit, when the user desires to differentiate with respect to them. However, it will often be the case that some of these parameters should remain fixed. For this reason, we can always load default parameters corresponding to some molecule and a particular basis set (in this case, we use STO-3G):"
   ]
  },
  {
   "cell_type": "code",
   "execution_count": 2,
   "id": "1d015b15-9e46-43e4-9fb5-48c68ce18720",
   "metadata": {},
   "outputs": [],
   "source": [
    "M1, M2 = hf.generate_basis_set('sto-3g', ['H', 'H']) # Generates default information for hydrogen"
   ]
  },
  {
   "cell_type": "markdown",
   "id": "55d880c4-b93c-4d0d-811c-75e044c04672",
   "metadata": {},
   "source": [
    "We can then generate all of the corresponding atomic orbitals:"
   ]
  },
  {
   "cell_type": "code",
   "execution_count": 3,
   "id": "44a04c5c-e5a5-4c5c-a799-7a95f24db754",
   "metadata": {},
   "outputs": [],
   "source": [
    "AO = []\n",
    "\n",
    "# Generates atomic orbitals using the default information\n",
    "for func in M1:\n",
    "    L, exp, coeff = func\n",
    "    AO.append(hf.AtomicBasisFunction(L, C=coeff, A=exp))\n",
    "\n",
    "# Generates atomic orbitals using the default information\n",
    "for func in M2:\n",
    "    L, exp, coeff = func\n",
    "    AO.append(hf.AtomicBasisFunction(L, C=coeff, A=exp))"
   ]
  },
  {
   "cell_type": "markdown",
   "id": "73fa7d13-6897-4a09-afb1-63dfc9165797",
   "metadata": {},
   "source": [
    "Each element of the list `AO` is an `AtomicBasisFunction` object, which can store information such as contraction coefficients, exponents of primitive Gaussians, angular momentum, etc. Any parameter that is not passed into an instance of `AtomicBasisFunction` upon initialization is assumed to be a free parameter with respect to which we can differentiate.\n",
    "\n",
    "Note that instead of thinking of atomic oribtals as functions of the form $f : \\mathbb{R}^{3} \\rightarrow \\mathbb{R}$, we think about them as maps $\\phi : \\mathcal{\\theta} \\rightarrow F$, where $\\theta$ is the space of free parameters (these could be coefficients, exponents, nuclear geometry, etc.), and $F$ is the space of all functions of the form of $f$. Thus, we can supply free parameters (in this case, geometry) to an instance of `AtomicBasisFunction`, and get a function $f(x, y, z)$:"
   ]
  },
  {
   "cell_type": "code",
   "execution_count": 21,
   "id": "3af21826-77d2-47b3-96fa-b8dcdd1b2814",
   "metadata": {},
   "outputs": [
    {
     "data": {
      "image/png": "[encoded data removed]",
      "text/plain": [
       "<Figure size 432x288 with 2 Axes>"
      ]
     },
     "metadata": {
      "needs_background": "light"
     },
     "output_type": "display_data"
    }
   ],
   "source": [
    "basis_func = AO[0] # Picks a basis function\n",
    "R = np.array([0.0, 0.0, 0.0]) #Sets coordinates\n",
    "\n",
    "fn = basis_func(R) # Constructs the basis function\n",
    "\n",
    "# Plots the basis function for z = 1.0\n",
    "X, Y = np.meshgrid(np.linspace(-7, 7, 50), np.linspace(-7, 7, 50))\n",
    "f = lambda x, y : fn([x, y, 1.0])\n",
    "Z = np.array([f(x, y) for x, y in zip(X, Y)])\n",
    "\n",
    "plt.pcolormesh(X, Y, Z, shading='auto', cmap='RdBu')\n",
    "plt.colorbar()\n",
    "plt.show()"
   ]
  },
  {
   "cell_type": "markdown",
   "id": "95ffc1a2-f598-4da0-b3e3-29ba58806113",
   "metadata": {},
   "source": [
    "We can also take linear combinations of `AtomicBasisFunction` objects to get `MolecularOrbital` objects. These objects behave similarly to the atomic basis functions. For example:"
   ]
  },
  {
   "cell_type": "code",
   "execution_count": 25,
   "id": "3257dc99-28a5-4c2b-917f-68e3c930552e",
   "metadata": {},
   "outputs": [
    {
     "data": {
      "image/png": "[encoded data removed]",
      "text/plain": [
       "<Figure size 432x288 with 2 Axes>"
      ]
     },
     "metadata": {
      "needs_background": "light"
     },
     "output_type": "display_data"
    }
   ],
   "source": [
    "M = hf.MolecularOrbital([-2.0, 1.0], [AO[0], AO[1]]) # Represents the molecular orbital AO[1] - 2 * AO[0]\n",
    "R1, R2 = np.array([-1.0, -1.0, -1.0]), np.array([1.0, 1.0, 1.0]) # Locations of atomic orbitals\n",
    "\n",
    "fn = M([R1], [R2]) # Defines the molecular orbital function\n",
    "\n",
    "# Plots the basis function for z = 0.0\n",
    "X, Y = np.meshgrid(np.linspace(-7, 7, 50), np.linspace(-7, 7, 50))\n",
    "f = lambda x, y : fn([x, y, 0.0])\n",
    "Z = np.array([f(x, y) for x, y in zip(X, Y)])\n",
    "\n",
    "plt.pcolormesh(X, Y, Z, shading='auto', cmap='RdBu')\n",
    "plt.colorbar()\n",
    "plt.show()"
   ]
  },
  {
   "cell_type": "markdown",
   "id": "8c066a77-fd51-416c-bf44-fe3fee106225",
   "metadata": {},
   "source": [
    "We can also use AutoHF to call individual integrals needed for performing Hartree-Fock. Similar to the philosophy behind atomic orbitals as maps from a parameter space, these \"integrals\" are actually maps of atomic oribtals, to maps from the \"free parameter space\" to the real numbers. In other words, they are functions that return functions (transforms).\n",
    "\n",
    "For example, consider the kinetic energy integral:"
   ]
  },
  {
   "cell_type": "code",
   "execution_count": 40,
   "id": "1ef17fd5-0b21-4b3b-967d-0bed3fd79cc5",
   "metadata": {
    "tags": []
   },
   "outputs": [],
   "source": [
    "basis_func_1 = AO[0] # Basis function 1\n",
    "basis_func_2 = AO[1] # Basis function 2\n",
    "\n",
    "R1 = np.array([0.0, 0.0, 0.0]) # Location of nucleus 1\n",
    "R2 = np.array([0.0, 1.0, -1.0]) # Location of nucleus 2\n",
    "\n",
    "kinetic_integral = hf.generate_kinetic(basis_func_1, basis_func_2) # Generates the overlap integral function"
   ]
  },
  {
   "cell_type": "markdown",
   "id": "721c6a1d-c1c0-40df-a672-3a8905eb7461",
   "metadata": {},
   "source": [
    "We can then call the integral function for some set of parameters (some geometry, in this case):"
   ]
  },
  {
   "cell_type": "code",
   "execution_count": 41,
   "id": "6a0e0954-a7ae-4679-8f11-60e99742cc34",
   "metadata": {},
   "outputs": [
    {
     "data": {
      "text/plain": [
       "0.23199821854794223"
      ]
     },
     "execution_count": 41,
     "metadata": {},
     "output_type": "execute_result"
    }
   ],
   "source": [
    "kinetic_integral([R1], [R2])"
   ]
  },
  {
   "cell_type": "markdown",
   "id": "f47641a0-601c-447f-bc49-00b8e109ebad",
   "metadata": {},
   "source": [
    "In addition, we can use Autograd to easily take gradients of this integral, with respect to nuclear coordinates. For example, the gradient with respect to $R_1 = (x_1, y_1, z_1)$ is simply given by:"
   ]
  },
  {
   "cell_type": "code",
   "execution_count": 42,
   "id": "e318b50a-5b31-4526-8199-39c05bc7d05b",
   "metadata": {
    "tags": []
   },
   "outputs": [
    {
     "data": {
      "text/plain": [
       "[array([ 0.        ,  0.22046722, -0.22046722])]"
      ]
     },
     "execution_count": 42,
     "metadata": {},
     "output_type": "execute_result"
    }
   ],
   "source": [
    "autograd.grad(kinetic_integral, argnum=0)([R1], [R2])"
   ]
  },
  {
   "cell_type": "markdown",
   "id": "3116fd71-371e-48a3-b91d-b4309f203a36",
   "metadata": {},
   "source": [
    "Finally, we are able to use AutoHF to perform Hartree-Fock, and generate the one and two electron integrals needed to compute the second-quantized molecular Hamiltonian. Since AutoHF is fully-differentiable, we can also take derivatives of these integrals. Let us first compute the one-electron integral $h_{00}$ for the $H_2$ molecule:"
   ]
  },
  {
   "cell_type": "code",
   "execution_count": 49,
   "id": "0d79918f-13e3-47a4-97bb-4757fc4b16b4",
   "metadata": {},
   "outputs": [],
   "source": [
    "num_elecs = 2 # Number of electrons\n",
    "idx = [0, 0] # Integral indices\n",
    "elec_solver = hf.one_electron_integral(num_elecs, AO, idx) # Creates the solver\n",
    "\n",
    "# Prepares the geometry of the orbitals\n",
    "R1 = [[np.array([0.0, 0.0, 0.0])] for m in M1] # Location of nucleus 1\n",
    "R2 = [[np.array([0.5, -1.0, -1.0])] for m in M2] # Location of nucleus 2\n",
    "R = np.array(R1 + R2)"
   ]
  },
  {
   "cell_type": "code",
   "execution_count": 50,
   "id": "cb5b5ea5-ad95-4104-91df-ab8629bf2f31",
   "metadata": {},
   "outputs": [
    {
     "data": {
      "text/plain": [
       "-1.2214382423120682"
      ]
     },
     "execution_count": 50,
     "metadata": {},
     "output_type": "execute_result"
    }
   ],
   "source": [
    "elec_solver(*R) # Runs the Hartree-Fock solver for one-electron integrals"
   ]
  },
  {
   "cell_type": "markdown",
   "id": "b91daf4c-6f64-4310-8814-dbf014f9f130",
   "metadata": {},
   "source": [
    "As was done above, we may also take derivatives of these integrals:"
   ]
  },
  {
   "cell_type": "code",
   "execution_count": 53,
   "id": "4fc7f6e5-595a-4298-b4fc-d529070ad2b5",
   "metadata": {},
   "outputs": [
    {
     "data": {
      "text/plain": [
       "array([[-0.10245001,  0.20490002,  0.20490002]])"
      ]
     },
     "execution_count": 53,
     "metadata": {},
     "output_type": "execute_result"
    }
   ],
   "source": [
    "autograd.grad(elec_solver)(*R)"
   ]
  },
  {
   "cell_type": "markdown",
   "id": "58d5585c-8cdb-4181-8f36-744e91f92afb",
   "metadata": {},
   "source": [
    "Similar functionality is also supported for the two-electron integrals as well!"
   ]
  }
 ],
 "metadata": {
  "kernelspec": {
   "display_name": "Python 3 (ipykernel)",
   "language": "python",
   "name": "python3"
  },
  "language_info": {
   "codemirror_mode": {
    "name": "ipython",
    "version": 3
   },
   "file_extension": ".py",
   "mimetype": "text/x-python",
   "name": "python",
   "nbconvert_exporter": "python",
   "pygments_lexer": "ipython3",
   "version": "3.9.1"
  }
 },
 "nbformat": 4,
 "nbformat_minor": 5
}
