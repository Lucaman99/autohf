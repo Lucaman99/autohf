{
 "cells": [
  {
   "cell_type": "code",
   "execution_count": 1,
   "id": "d3119b92-3978-4d84-aaff-32b59dd3cba2",
   "metadata": {},
   "outputs": [],
   "source": [
    "import chemistry as chem\n",
    "import autohf as hf\n",
    "import time\n",
    "from tqdm import tqdm\n",
    "import autograd\n",
    "import numpy as np\n",
    "import openfermion\n",
    "import autograd.numpy as anp\n",
    "from pennylane import qchem\n",
    "import pennylane as qml\n",
    "import autograd.scipy as sc\n",
    "from autograd.extend import primitive, defvjp"
   ]
  },
  {
   "cell_type": "code",
   "execution_count": 2,
   "id": "92b0d075-e29a-49bd-aa1f-33e637baa86a",
   "metadata": {},
   "outputs": [],
   "source": [
    "r = anp.array([0.0, 0.0, -0.694347576012433, 0.0, 0.0, 0.694347576012433])\n",
    "R1, R2 = anp.array(r[0:3]), anp.array(r[3:6])"
   ]
  },
  {
   "cell_type": "code",
   "execution_count": 3,
   "id": "d8cc0b47-54cc-44d4-8ece-545163e6b070",
   "metadata": {},
   "outputs": [],
   "source": [
    "# Initializes the atomic basis set for Hartree-Fock\n",
    "\n",
    "M1, M2 = hf.basis_set_params('sto-3g', ['H', 'H']) # Generates default information for hydrogen\n",
    "\n",
    "basis_set = []\n",
    "\n",
    "# Generates atomic orbitals using the default information\n",
    "for func in M1 + M2:\n",
    "    L, exp, coeff = func\n",
    "    basis_set.append(hf.AtomicBasisFunction(L, C=anp.array(coeff), A=anp.array(exp)))"
   ]
  },
  {
   "cell_type": "code",
   "execution_count": 5,
   "id": "6805cc1d-6520-47ba-89e3-83ccd5ca2400",
   "metadata": {
    "tags": []
   },
   "outputs": [
    {
     "name": "stdout",
     "output_type": "stream",
     "text": [
      "[[[[0.77460594 0.44752243]\n",
      "   [0.44752243 0.57192752]]\n",
      "\n",
      "  [[0.44752243 0.30100731]\n",
      "   [0.30100731 0.44752243]]]\n",
      "\n",
      "\n",
      " [[[0.44752243 0.30100731]\n",
      "   [0.30100731 0.44752243]]\n",
      "\n",
      "  [[0.57192752 0.44752243]\n",
      "   [0.44752243 0.77460594]]]]\n",
      "Execution Time = 0.029052019119262695 s\n",
      "----------------------------\n",
      "One Electron Integrals\n",
      "[[-1.25642052  0.        ]\n",
      " [ 0.         -0.47181021]]\n",
      "----------------------------\n",
      "Two Electron Integrals\n",
      "[[[[ 6.75735764e-01  0.00000000e+00]\n",
      "   [ 0.00000000e+00  1.80923717e-01]]\n",
      "\n",
      "  [[ 0.00000000e+00  1.80923717e-01]\n",
      "   [ 6.64605114e-01  1.11022302e-16]]]\n",
      "\n",
      "\n",
      " [[[ 0.00000000e+00  6.64605114e-01]\n",
      "   [ 1.80923717e-01 -1.11022302e-16]]\n",
      "\n",
      "  [[ 1.80923717e-01  0.00000000e+00]\n",
      "   [-1.11022302e-16  6.98598504e-01]]]]\n"
     ]
    }
   ],
   "source": [
    "num_elecs = 2\n",
    "\n",
    "# Generates one and two electron integrals\n",
    "start = time.time()\n",
    "one_elec, two_elec = hf.electron_integrals(num_elecs, basis_set)([r[0:3]], [r[3:6]])\n",
    "print(\"Execution Time = {} s\".format(time.time() - start))\n",
    "print(\"----------------------------\")\n",
    "print(\"One Electron Integrals\")\n",
    "print(one_elec)\n",
    "print(\"----------------------------\")\n",
    "print(\"Two Electron Integrals\")\n",
    "print(two_elec)"
   ]
  }
 ],
 "metadata": {
  "kernelspec": {
   "display_name": "Python 3 (ipykernel)",
   "language": "python",
   "name": "python3"
  },
  "language_info": {
   "codemirror_mode": {
    "name": "ipython",
    "version": 3
   },
   "file_extension": ".py",
   "mimetype": "text/x-python",
   "name": "python",
   "nbconvert_exporter": "python",
   "pygments_lexer": "ipython3",
   "version": "3.9.1"
  }
 },
 "nbformat": 4,
 "nbformat_minor": 5
}
