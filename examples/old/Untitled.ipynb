{
 "cells": [
  {
   "cell_type": "code",
   "execution_count": 1,
   "id": "fcb0306f-5a22-47cd-a2e7-cddc70d614aa",
   "metadata": {},
   "outputs": [
    {
     "name": "stderr",
     "output_type": "stream",
     "text": [
      "/Library/Frameworks/Python.framework/Versions/3.9/lib/python3.9/site-packages/pyscf/lib/misc.py:46: H5pyDeprecationWarning: Using default_file_mode other than 'r' is deprecated. Pass the mode to h5py.File() instead.\n",
      "  h5py.get_config().default_file_mode = 'a'\n"
     ]
    }
   ],
   "source": [
    "import chemistry as chem\n",
    "import autohf as hf\n",
    "from pennylane import qchem\n",
    "import numpy as np\n",
    "import pennylane as qml\n",
    "import autograd\n",
    "import autograd.numpy as anp\n",
    "from autograd.differential_operators import make_jvp_reversemode as mjr\n",
    "from autograd.differential_operators import make_jvp\n",
    "from autograd.core import make_vjp\n",
    "from tqdm.notebook import tqdm\n",
    "np.set_printoptions(linewidth=300)"
   ]
  },
  {
   "cell_type": "code",
   "execution_count": 2,
   "id": "7e1bbca7-5b5b-4f58-b3f9-04f6def1c221",
   "metadata": {},
   "outputs": [],
   "source": [
    "# -15.5949085385\n",
    "molecule = chem.BeH2()\n",
    "R = chem.data.angs_bohr * anp.array([0.0000000000, 0.0000000000, 0.0000000000, 0.0000000000, -1.2890581334, 0.0000000000, 0.0000000000, 1.2890581334, 0.0000000000]) # Optimal geometry\n",
    "structure = molecule.structure\n",
    "\n",
    "H = molecule.hamiltonian(active_electrons=4, active_orbitals=4)\n",
    "\n",
    "charges = [4, 1, 1]\n",
    "num_elecs = 6\n",
    "\n",
    "R1, R2, R3 = anp.array(R[0:3]), anp.array(R[3:6]), anp.array(R[6:9]) # Atomic coordiantes"
   ]
  },
  {
   "cell_type": "code",
   "execution_count": 3,
   "id": "f39b5306-1ad2-46b3-b399-9d065dd1fc8e",
   "metadata": {},
   "outputs": [],
   "source": [
    "basis_set = []\n",
    "A1, A2, A3 = hf.basis_set_params(\"sto-3g\", structure) # Gets default basis set parameters\n",
    "\n",
    "for func in A1 + A2 + A3:\n",
    "    L, exp, coeff = func\n",
    "    basis_set.append(hf.AtomicBasisFunction(L, C=anp.array(coeff), A=anp.array(exp)))"
   ]
  },
  {
   "cell_type": "code",
   "execution_count": 18,
   "id": "181ad2bd-4252-49b5-86ef-7b2104e569f9",
   "metadata": {},
   "outputs": [],
   "source": [
    "num_act_orb = 4\n",
    "num_act_elec = 4\n",
    "\n",
    "core, active = qchem.active_space(6, 7, active_electrons=num_act_elec, active_orbitals=num_act_orb) # Prepares active space\n",
    "# Function to get electronic integrals\n",
    "elec_func_flat = lambda r : hf.hartree_fock(num_elecs, charges, basis_set)([r[0:3], r[3:6], r[6:9]], *([[r[0:3]]] * 5), [r[3:6]], [r[6:9]])[0]"
   ]
  },
  {
   "cell_type": "code",
   "execution_count": 19,
   "id": "678cefe7-8a19-4ffb-a8ae-4238bfefddd6",
   "metadata": {},
   "outputs": [],
   "source": [
    "#fn = lambda r : hf.electron_repulsion_tensor(basis_set)([r[0:3], r[3:6], r[6:9]], *([[r[0:3]]] * 5), [r[3:6]], [r[6:9]])"
   ]
  },
  {
   "cell_type": "code",
   "execution_count": 23,
   "id": "ca2a64e7-005e-4f4a-bdc8-83f56f66a398",
   "metadata": {},
   "outputs": [],
   "source": [
    "func = make_jvp(elec_func_flat)(-R)\n",
    "vec = np.array([1.0, 0.0, 0.0, 0.0, 0.0, 0.0, 0.0, 0.0, 0.0])"
   ]
  },
  {
   "cell_type": "code",
   "execution_count": 24,
   "id": "6aff3d03-a4b2-4412-97ca-8248e3a11783",
   "metadata": {},
   "outputs": [
    {
     "data": {
      "text/plain": [
       "array([[ 0.00000000e+00,  0.00000000e+00,  0.00000000e+00, -1.72194068e-01,  0.00000000e+00,  0.00000000e+00,  0.00000000e+00],\n",
       "       [ 0.00000000e+00,  0.00000000e+00,  0.00000000e+00,  7.95846410e-01,  0.00000000e+00,  0.00000000e+00,  0.00000000e+00],\n",
       "       [ 0.00000000e+00,  0.00000000e+00,  0.00000000e+00,  5.68367819e-06,  0.00000000e+00,  0.00000000e+00,  0.00000000e+00],\n",
       "       [ 0.00000000e+00,  0.00000000e+00,  0.00000000e+00,  1.39384020e-13,  0.00000000e+00,  0.00000000e+00,  0.00000000e+00],\n",
       "       [-3.09239437e-04, -9.94755865e-02, -1.14452556e-13,  0.00000000e+00,  5.68367798e-06, -8.81312044e-01,  8.74880132e-13],\n",
       "       [ 0.00000000e+00,  0.00000000e+00,  0.00000000e+00, -3.19507253e-01,  0.00000000e+00,  0.00000000e+00,  0.00000000e+00],\n",
       "       [ 0.00000000e+00,  0.00000000e+00,  0.00000000e+00, -3.19507253e-01,  0.00000000e+00,  0.00000000e+00,  0.00000000e+00]])"
      ]
     },
     "execution_count": 24,
     "metadata": {},
     "output_type": "execute_result"
    }
   ],
   "source": [
    "delta = 0.001\n",
    "(1 / delta) * (elec_func_flat(R + (delta/2) * vec) - elec_func_flat(R - (delta/2) * vec))"
   ]
  },
  {
   "cell_type": "code",
   "execution_count": 25,
   "id": "58dba07b-4735-422b-ba86-98d80bcf4e1b",
   "metadata": {},
   "outputs": [
    {
     "data": {
      "text/plain": [
       "array([[ 1.66122576e-15, -2.99015222e-16,  2.90130033e-16,  2.81149773e-01, -2.35106114e-01, -2.39838619e-16, -4.65607909e-17],\n",
       "       [ 1.20216185e-15,  1.20000278e-15, -5.73854107e-16, -8.91299797e-01,  5.24700685e-01,  5.94950591e-16, -2.50194839e-16],\n",
       "       [ 2.51278308e-03, -1.71976736e-01, -6.40629098e-16,  2.30436836e-15,  2.64551230e-16,  3.59390962e-01,  1.13049239e-16],\n",
       "       [-2.01745670e-16, -3.72100278e-16, -1.04728730e-15, -2.27566837e-16,  8.08703905e-17, -3.74754420e-17,  3.48980570e-16],\n",
       "       [-6.76042233e-01, -4.88534487e-01, -2.19973823e-15,  3.45302975e-16, -1.13433780e-16,  4.94353455e-01, -1.10434883e-16],\n",
       "       [-1.90108029e-15, -1.51134832e-15,  3.71404024e-16,  4.28522523e-01, -2.60620738e-02, -6.32648379e-17,  5.56834704e-16],\n",
       "       [-1.75872520e-15, -4.66613748e-16, -1.12506062e-15,  4.28522523e-01, -2.60620738e-02,  1.14173441e-16,  3.19810959e-18]])"
      ]
     },
     "execution_count": 25,
     "metadata": {},
     "output_type": "execute_result"
    }
   ],
   "source": [
    "func(vec)[1]"
   ]
  },
  {
   "cell_type": "code",
   "execution_count": 32,
   "id": "ceeb4c8b-bfd1-4d54-b0e9-01b5f8dca81d",
   "metadata": {},
   "outputs": [],
   "source": [
    "norm = lambda x : anp.sqrt(anp.sum(anp.dot(x, x)))"
   ]
  },
  {
   "cell_type": "code",
   "execution_count": 39,
   "id": "7caae223-306c-4bf0-bbd9-57610d235568",
   "metadata": {},
   "outputs": [
    {
     "data": {
      "text/plain": [
       "(3.444984394496039, -0.7071067811865476)"
      ]
     },
     "execution_count": 39,
     "metadata": {},
     "output_type": "execute_result"
    }
   ],
   "source": [
    "make_jvp(norm)(R)(np.array([0.0, 0.0, 0.0, 0.0, 1.0, 0.0, 0.0, 0.0, 0.0]))"
   ]
  },
  {
   "cell_type": "code",
   "execution_count": 40,
   "id": "edec9978-331b-4282-bd9a-f761e1d8cf43",
   "metadata": {},
   "outputs": [
    {
     "name": "stdout",
     "output_type": "stream",
     "text": [
      "[ 0.          0.          0.          0.         -2.43597183  0.          0.          2.43597183  0.        ]\n"
     ]
    }
   ],
   "source": [
    "print(R)"
   ]
  },
  {
   "cell_type": "code",
   "execution_count": null,
   "id": "e60b9409-2a24-4d2d-acca-4a2184ad9d8f",
   "metadata": {},
   "outputs": [],
   "source": [
    "H = build_h_from_integrals(geometry, one_electron, two_electron, nuc_energy, wires, basis=\"sto-3g\", multiplicity=1, charge=0)"
   ]
  }
 ],
 "metadata": {
  "kernelspec": {
   "display_name": "Python 3 (ipykernel)",
   "language": "python",
   "name": "python3"
  },
  "language_info": {
   "codemirror_mode": {
    "name": "ipython",
    "version": 3
   },
   "file_extension": ".py",
   "mimetype": "text/x-python",
   "name": "python",
   "nbconvert_exporter": "python",
   "pygments_lexer": "ipython3",
   "version": "3.9.6"
  }
 },
 "nbformat": 4,
 "nbformat_minor": 5
}
