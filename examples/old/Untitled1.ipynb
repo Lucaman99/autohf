{
 "cells": [
  {
   "cell_type": "code",
   "execution_count": 1,
   "id": "93663c3d-6938-42b7-b006-d5303aee2ebe",
   "metadata": {},
   "outputs": [
    {
     "name": "stderr",
     "output_type": "stream",
     "text": [
      "/Library/Frameworks/Python.framework/Versions/3.9/lib/python3.9/site-packages/pyscf/lib/misc.py:46: H5pyDeprecationWarning: Using default_file_mode other than 'r' is deprecated. Pass the mode to h5py.File() instead.\n",
      "  h5py.get_config().default_file_mode = 'a'\n"
     ]
    }
   ],
   "source": [
    "%reload_ext autoreload\n",
    "%autoreload 2\n",
    "import autohf as hf\n",
    "import numpy as np\n",
    "from matplotlib import pyplot as plt\n",
    "import time\n",
    "import autograd\n",
    "import chemistry as chem\n",
    "import autograd.numpy as anp\n",
    "import openfermion\n",
    "from pennylane import qchem\n",
    "from tqdm import tqdm\n",
    "import pennylane as qml\n",
    "from autograd.differential_operators import make_jvp_reversemode as mjr"
   ]
  },
  {
   "cell_type": "code",
   "execution_count": null,
   "id": "54de4ca2-c2d3-4a89-b6fa-c65a9a95bfb4",
   "metadata": {},
   "outputs": [],
   "source": []
  }
 ],
 "metadata": {
  "kernelspec": {
   "display_name": "Python 3 (ipykernel)",
   "language": "python",
   "name": "python3"
  },
  "language_info": {
   "codemirror_mode": {
    "name": "ipython",
    "version": 3
   },
   "file_extension": ".py",
   "mimetype": "text/x-python",
   "name": "python",
   "nbconvert_exporter": "python",
   "pygments_lexer": "ipython3",
   "version": "3.9.6"
  }
 },
 "nbformat": 4,
 "nbformat_minor": 5
}
