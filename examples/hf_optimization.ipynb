{
 "cells": [
  {
   "cell_type": "code",
   "execution_count": 23,
   "id": "e7fa135c-3169-430d-a109-fe4eb49a5544",
   "metadata": {},
   "outputs": [],
   "source": [
    "import autohf as hf\n",
    "import numpy as np\n",
    "import chemistry as chem\n",
    "import autograd.numpy as anp\n",
    "import autograd"
   ]
  },
  {
   "cell_type": "code",
   "execution_count": 17,
   "id": "f861c32d-8558-4cd5-bf64-4691c2cd5797",
   "metadata": {},
   "outputs": [],
   "source": [
    "# We begin by defining the molecule and some parameters\n",
    "molecule = chem.BeH2()\n",
    "symbols = molecule.structure\n",
    "R = molecule.optimal_coordinates\n",
    "charges = [4, 1, 1]\n",
    "num_elec = 6"
   ]
  },
  {
   "cell_type": "code",
   "execution_count": 18,
   "id": "4a3dd3fe-d4f9-4e97-9368-08a6c4d60dd7",
   "metadata": {},
   "outputs": [],
   "source": [
    "# Next, we define the basis set, leaivng the exponents and contraction coefficients as free parameters\n",
    "\n",
    "M1, M2, M3 = hf.basis_set_params('sto-3g', symbols) # Generates default information\n",
    "R1, R2, R3 = R[0:3], R[3:6], R[6:9]\n",
    "\n",
    "basis_set = []\n",
    "initial_exp = []\n",
    "initial_coeffs = []\n",
    "\n",
    "# Generates atomic orbitals using the default information\n",
    "for func in M1:\n",
    "    L, exp, coeff = func\n",
    "    initial_exp.append(anp.array(exp))\n",
    "    initial_coeffs.append(anp.array(coeff))\n",
    "    basis_set.append(hf.AtomicBasisFunction(L,  R=R1))\n",
    "    \n",
    "for func in M2:\n",
    "    L, exp, coeff = func\n",
    "    initial_exp.append(anp.array(exp))\n",
    "    initial_coeffs.append(anp.array(coeff))\n",
    "    basis_set.append(hf.AtomicBasisFunction(L,  R=R2))\n",
    "    \n",
    "for func in M3:\n",
    "    L, exp, coeff = func\n",
    "    initial_exp.append(anp.array(exp))\n",
    "    initial_coeffs.append(anp.array(coeff))\n",
    "    basis_set.append(hf.AtomicBasisFunction(L,  R=R3))"
   ]
  },
  {
   "cell_type": "code",
   "execution_count": 19,
   "id": "238c6254-67cd-4dbb-8b2b-5351670fab15",
   "metadata": {},
   "outputs": [],
   "source": [
    "# We define the function which returns the Hartree-Fock energy\n",
    "energy_fn = lambda *args : hf.hf_energy(num_elec, charges, basis_set)([R1, R2, R3], *args)"
   ]
  },
  {
   "cell_type": "code",
   "execution_count": 22,
   "id": "dd3858c7-b240-4d98-bb9c-3dcc727d1f54",
   "metadata": {},
   "outputs": [
    {
     "data": {
      "text/plain": [
       "-15.561350935866912"
      ]
     },
     "execution_count": 22,
     "metadata": {},
     "output_type": "execute_result"
    }
   ],
   "source": [
    "energy_fn(*[list(x) for x in zip(initial_coeffs, initial_exp)])"
   ]
  },
  {
   "cell_type": "code",
   "execution_count": 26,
   "id": "dfaacc07-bf05-4b9a-bfe7-e3f05bdee63c",
   "metadata": {},
   "outputs": [],
   "source": [
    "# Takes the derivative with respect to the first argument(s)\n",
    "grad_energy = autograd.grad(energy_fn)"
   ]
  },
  {
   "cell_type": "code",
   "execution_count": 27,
   "id": "105dd04c-033b-4dec-812c-0b12ab01cf2b",
   "metadata": {},
   "outputs": [
    {
     "data": {
      "text/plain": [
       "[array([-0.09515422,  0.22293598, -0.23538174]),\n",
       " array([-0.00753598,  0.01567791,  0.06411447])]"
      ]
     },
     "execution_count": 27,
     "metadata": {},
     "output_type": "execute_result"
    }
   ],
   "source": [
    "grad_energy(*[list(x) for x in zip(initial_coeffs, initial_exp)])"
   ]
  }
 ],
 "metadata": {
  "kernelspec": {
   "display_name": "Python 3 (ipykernel)",
   "language": "python",
   "name": "python3"
  },
  "language_info": {
   "codemirror_mode": {
    "name": "ipython",
    "version": 3
   },
   "file_extension": ".py",
   "mimetype": "text/x-python",
   "name": "python",
   "nbconvert_exporter": "python",
   "pygments_lexer": "ipython3",
   "version": "3.9.1"
  }
 },
 "nbformat": 4,
 "nbformat_minor": 5
}
