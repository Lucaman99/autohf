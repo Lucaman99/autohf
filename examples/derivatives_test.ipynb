{
 "cells": [
  {
   "cell_type": "markdown",
   "id": "d56fac6c-c30b-46de-a96e-5fe3475f6fa5",
   "metadata": {},
   "source": [
    "# Testing Derivatives"
   ]
  },
  {
   "cell_type": "code",
   "execution_count": 11,
   "id": "c5841153-cf8f-44fd-8267-6a1efdde9511",
   "metadata": {},
   "outputs": [],
   "source": [
    "import chemistry as chem\n",
    "import autohf as hf\n",
    "import numpy as np\n",
    "import autograd\n",
    "from autograd.differential_operators import make_jvp\n",
    "import autograd.numpy as anp\n",
    "from pennylane import qchem\n",
    "import pennylane as qml\n",
    "import bigvqe as bv\n",
    "\n",
    "np.set_printoptions(linewidth=800, threshold=200)"
   ]
  },
  {
   "cell_type": "code",
   "execution_count": 12,
   "id": "e862597e-a16d-4d34-bddd-7c1518ddd6f5",
   "metadata": {},
   "outputs": [],
   "source": [
    "molecule = chem.BeH2()\n",
    "R = molecule.optimal_coordinates # Hartree-Fock geometry\n",
    "structure = molecule.structure # Molecular symbols\n",
    "\n",
    "num_elecs = 6\n",
    "num_orbitals = 7\n",
    "charges = [4, 1, 1]\n",
    "wires = list(range(12))\n",
    "\n",
    "core, active = qchem.active_space(6, 7, active_electrons=4, active_orbitals=6) # Prepares active space"
   ]
  },
  {
   "cell_type": "code",
   "execution_count": 13,
   "id": "932b599d-6b9a-40ca-9407-ac8b11aeab3e",
   "metadata": {},
   "outputs": [],
   "source": [
    "basis_set = []\n",
    "A1, A2, A3 = hf.basis_set_params(\"sto-3g\", structure)\n",
    "for func in A1 + A2 + A3:\n",
    "    L, exp, coeff = func\n",
    "    basis_set.append(hf.AtomicBasisFunction(L, C=anp.array(coeff), A=anp.array(exp)))\n",
    "\n",
    "hf_b = [basis_set[0:5], [basis_set[5]], [basis_set[6]]]"
   ]
  },
  {
   "cell_type": "code",
   "execution_count": 10,
   "id": "7c7f5081-c297-4447-95dc-7dd33799d561",
   "metadata": {},
   "outputs": [],
   "source": [
    "H = chem.hamiltonian(molecule.structure, hf_b, 6, charges, wires, core=core, active=active)\n",
    "\n",
    "# Defines Hamiltonian and sparse Hamiltonian at HF geometry\n",
    "H_r = H(R)\n",
    "H_r_sparse = qml.SparseHamiltonian(qml.utils.sparse_hamiltonian(H_r), wires=wires)"
   ]
  },
  {
   "cell_type": "code",
   "execution_count": 14,
   "id": "aa851d10-1925-4c77-9723-2b940e13b88b",
   "metadata": {},
   "outputs": [],
   "source": [
    "# Defines the gradient of the Hamiltonian\n",
    "convert = lambda x : anp.array([0.0, 0.0, 0.0, 0.0, x[0], 0.0, 0.0, -x[0], 0.0])\n",
    "H_sparse = lambda x : qml.SparseHamiltonian(chem.hamiltonian_sparse(hf_b, 6, charges, core=core, active=active)(convert(x)), wires=wires)\n",
    "\n",
    "def dH(x):\n",
    "    vector = np.array([0.0, 0.0, 0.0, 0.0, 1.0, 0.0, 0.0, -1.0, 0.0])\n",
    "    dH = chem.d_hamiltonian_sparse(hf_b, 6, charges, core=core, active=active)\n",
    "    return [dH(convert(x), vector)]\n",
    "\n",
    "dH_sparse = lambda x : [qml.SparseHamiltonian(h, wires=wires) for h in dH(x)]"
   ]
  },
  {
   "cell_type": "code",
   "execution_count": null,
   "id": "5cb08305-bf4a-4dac-8551-fecb9d0aab1d",
   "metadata": {},
   "outputs": [],
   "source": []
  }
 ],
 "metadata": {
  "kernelspec": {
   "display_name": "Python 3 (ipykernel)",
   "language": "python",
   "name": "python3"
  },
  "language_info": {
   "codemirror_mode": {
    "name": "ipython",
    "version": 3
   },
   "file_extension": ".py",
   "mimetype": "text/x-python",
   "name": "python",
   "nbconvert_exporter": "python",
   "pygments_lexer": "ipython3",
   "version": "3.9.6"
  }
 },
 "nbformat": 4,
 "nbformat_minor": 5
}
